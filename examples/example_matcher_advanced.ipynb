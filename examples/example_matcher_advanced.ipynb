{
 "cells": [
  {
   "cell_type": "markdown",
   "id": "7601f10c",
   "metadata": {},
   "source": [
    "# Spark-Matcher advanced Matcher example "
   ]
  },
  {
   "cell_type": "markdown",
   "id": "71300ce4",
   "metadata": {},
   "source": [
    "This notebook shows how to use the `spark_matcher` for matching entities with more customized settings. First we create a Spark session:"
   ]
  },
  {
   "cell_type": "code",
   "execution_count": null,
   "id": "b29a36e5",
   "metadata": {},
   "outputs": [],
   "source": [
    "%config Completer.use_jedi = False  # for proper autocompletion\n",
    "from pyspark.sql import SparkSession"
   ]
  },
  {
   "cell_type": "code",
   "execution_count": null,
   "id": "b5d8664e",
   "metadata": {},
   "outputs": [],
   "source": [
    "spark = (SparkSession\n",
    "             .builder\n",
    "             .master(\"local\")\n",
    "             .enableHiveSupport()\n",
    "             .getOrCreate())"
   ]
  },
  {
   "cell_type": "markdown",
   "id": "0f72cb2c",
   "metadata": {},
   "source": [
    "Load the example data:"
   ]
  },
  {
   "cell_type": "code",
   "execution_count": null,
   "id": "fc90dcba",
   "metadata": {},
   "outputs": [],
   "source": [
    "from spark_matcher.data import load_data"
   ]
  },
  {
   "cell_type": "code",
   "execution_count": null,
   "id": "26d826fd",
   "metadata": {},
   "outputs": [],
   "source": [
    "a, b = load_data(spark)"
   ]
  },
  {
   "cell_type": "markdown",
   "id": "eec05ac1",
   "metadata": {},
   "source": [
    "We now create a `Matcher` object with our own string similarity metric and blocking rules:"
   ]
  },
  {
   "cell_type": "code",
   "execution_count": null,
   "id": "e4c9b675",
   "metadata": {},
   "outputs": [],
   "source": [
    "from spark_matcher.matcher import Matcher"
   ]
  },
  {
   "cell_type": "markdown",
   "id": "9935a8a6",
   "metadata": {},
   "source": [
    "First create a string similarity metric that checks if the first word is a perfect match:"
   ]
  },
  {
   "cell_type": "code",
   "execution_count": null,
   "id": "8b1c0150",
   "metadata": {},
   "outputs": [],
   "source": [
    "def first_word(string_1, string_2):\n",
    "    return float(string_1.split()[0]==string_2.split()[0])"
   ]
  },
  {
   "cell_type": "markdown",
   "id": "98b9d059",
   "metadata": {},
   "source": [
    "We also want to use the `token_sort_ratio` from the `thefuzz` package. Note that this package should be available on the Spark worker nodes."
   ]
  },
  {
   "cell_type": "code",
   "execution_count": null,
   "id": "04f54a91",
   "metadata": {},
   "outputs": [],
   "source": [
    "from thefuzz.fuzz import token_sort_ratio"
   ]
  },
  {
   "cell_type": "code",
   "execution_count": null,
   "id": "6f1b85f8",
   "metadata": {},
   "outputs": [],
   "source": [
    "field_info={'name':[first_word, token_sort_ratio], 'suburb':[token_sort_ratio], 'postcode':[token_sort_ratio]}"
   ]
  },
  {
   "cell_type": "markdown",
   "id": "77b1623b",
   "metadata": {},
   "source": [
    "Moreover, we want to limit blocking to the 'title' field only by looking at the first 3 character and the first 3 words:"
   ]
  },
  {
   "cell_type": "code",
   "execution_count": null,
   "id": "c3f6c974",
   "metadata": {},
   "outputs": [],
   "source": [
    "from spark_matcher.blocker.blocking_rules import FirstNChars, FirstNWords"
   ]
  },
  {
   "cell_type": "code",
   "execution_count": null,
   "id": "736c3643",
   "metadata": {},
   "outputs": [],
   "source": [
    "blocking_rules=[FirstNChars('name', 3), FirstNWords('name', 3)]"
   ]
  },
  {
   "cell_type": "code",
   "execution_count": null,
   "id": "3b98dbb6",
   "metadata": {},
   "outputs": [],
   "source": [
    "myMatcher = Matcher(spark, field_info=field_info, blocking_rules=blocking_rules, checkpoint_dir='path_to_checkpoints')"
   ]
  },
  {
   "cell_type": "markdown",
   "id": "22440b47",
   "metadata": {},
   "source": [
    "Now we are ready for fitting the `Matcher` object:"
   ]
  },
  {
   "cell_type": "code",
   "execution_count": null,
   "id": "9a5999c6",
   "metadata": {
    "tags": []
   },
   "outputs": [],
   "source": [
    "myMatcher.fit(a, b)"
   ]
  },
  {
   "cell_type": "markdown",
   "id": "a0cfadaa",
   "metadata": {},
   "source": [
    "This fitted model can now be use to predict:"
   ]
  },
  {
   "cell_type": "code",
   "execution_count": null,
   "id": "594fd2cd",
   "metadata": {},
   "outputs": [],
   "source": [
    "result = myMatcher.predict(a, b)"
   ]
  }
 ],
 "metadata": {
  "kernelspec": {
   "display_name": "Python 3 (ipykernel)",
   "language": "python",
   "name": "python3"
  },
  "language_info": {
   "codemirror_mode": {
    "name": "ipython",
    "version": 3
   },
   "file_extension": ".py",
   "mimetype": "text/x-python",
   "name": "python",
   "nbconvert_exporter": "python",
   "pygments_lexer": "ipython3",
   "version": "3.8.11"
  }
 },
 "nbformat": 4,
 "nbformat_minor": 5
}
