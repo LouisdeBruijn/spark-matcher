{
 "cells": [
  {
   "cell_type": "markdown",
   "id": "5287ca32",
   "metadata": {
    "tags": [
     "keep_output"
    ]
   },
   "source": [
    "# Spark-Matcher advanced example "
   ]
  },
  {
   "cell_type": "markdown",
   "id": "15c0ec9a",
   "metadata": {
    "tags": [
     "keep_output"
    ]
   },
   "source": [
    "This notebook shows how to use the `spark_matcher` with more customized settings. First we create a Spark session:"
   ]
  },
  {
   "cell_type": "code",
   "execution_count": null,
   "id": "53d5be5d",
   "metadata": {
    "tags": [
     "keep_output"
    ]
   },
   "outputs": [],
   "source": [
    "%config Completer.use_jedi = False  # for proper autocompletion\n",
    "from pyspark.sql import SparkSession"
   ]
  },
  {
   "cell_type": "code",
   "execution_count": null,
   "id": "7a6d7d03",
   "metadata": {
    "tags": [
     "keep_output"
    ]
   },
   "outputs": [],
   "source": [
    "spark = (SparkSession\n",
    "             .builder\n",
    "             .master(\"local\")\n",
    "             .enableHiveSupport()\n",
    "             .getOrCreate())"
   ]
  },
  {
   "cell_type": "markdown",
   "id": "fd1f147c",
   "metadata": {},
   "source": [
    "Load the example data:"
   ]
  },
  {
   "cell_type": "code",
   "execution_count": null,
   "id": "43d1d5a4",
   "metadata": {
    "tags": [
     "keep_output"
    ]
   },
   "outputs": [],
   "source": [
    "from spark_matcher.data import load_data"
   ]
  },
  {
   "cell_type": "markdown",
   "id": "a6c60c7c",
   "metadata": {},
   "source": [
    "We use the 'library' data and remove the (numeric) 'year' column:"
   ]
  },
  {
   "cell_type": "code",
   "execution_count": null,
   "id": "ba4878ba",
   "metadata": {
    "tags": [
     "keep_output"
    ]
   },
   "outputs": [],
   "source": [
    "a, b = load_data(spark, kind='library')\n",
    "a, b = a.drop('year'), b.drop('year')"
   ]
  },
  {
   "cell_type": "code",
   "execution_count": null,
   "id": "f21332ee",
   "metadata": {
    "tags": [
     "keep_output"
    ]
   },
   "outputs": [
    {
     "data": {
      "text/html": [
       "<div>\n",
       "<style scoped>\n",
       "    .dataframe tbody tr th:only-of-type {\n",
       "        vertical-align: middle;\n",
       "    }\n",
       "\n",
       "    .dataframe tbody tr th {\n",
       "        vertical-align: top;\n",
       "    }\n",
       "\n",
       "    .dataframe thead th {\n",
       "        text-align: right;\n",
       "    }\n",
       "</style>\n",
       "<table border=\"1\" class=\"dataframe\">\n",
       "  <thead>\n",
       "    <tr style=\"text-align: right;\">\n",
       "      <th></th>\n",
       "      <th>title</th>\n",
       "      <th>authors</th>\n",
       "      <th>venue</th>\n",
       "    </tr>\n",
       "  </thead>\n",
       "  <tbody>\n",
       "    <tr>\n",
       "      <th>0</th>\n",
       "      <td>The WASA2 object-oriented workflow management ...</td>\n",
       "      <td>Gottfried Vossen, Mathias Weske</td>\n",
       "      <td>International Conference on Management of Data</td>\n",
       "    </tr>\n",
       "    <tr>\n",
       "      <th>1</th>\n",
       "      <td>A user-centered interface for querying distrib...</td>\n",
       "      <td>Isabel F. Cruz, Kimberly M. James</td>\n",
       "      <td>International Conference on Management of Data</td>\n",
       "    </tr>\n",
       "    <tr>\n",
       "      <th>2</th>\n",
       "      <td>World Wide Database-integrating the Web, CORBA...</td>\n",
       "      <td>Athman Bouguettaya, Boualem Benatallah, Lily H...</td>\n",
       "      <td>International Conference on Management of Data</td>\n",
       "    </tr>\n",
       "  </tbody>\n",
       "</table>\n",
       "</div>"
      ],
      "text/plain": [
       "                                               title  \\\n",
       "0  The WASA2 object-oriented workflow management ...   \n",
       "1  A user-centered interface for querying distrib...   \n",
       "2  World Wide Database-integrating the Web, CORBA...   \n",
       "\n",
       "                                             authors  \\\n",
       "0                    Gottfried Vossen, Mathias Weske   \n",
       "1                  Isabel F. Cruz, Kimberly M. James   \n",
       "2  Athman Bouguettaya, Boualem Benatallah, Lily H...   \n",
       "\n",
       "                                            venue  \n",
       "0  International Conference on Management of Data  \n",
       "1  International Conference on Management of Data  \n",
       "2  International Conference on Management of Data  "
      ]
     },
     "execution_count": null,
     "metadata": {},
     "output_type": "execute_result"
    }
   ],
   "source": [
    "a.limit(3).toPandas()"
   ]
  },
  {
   "cell_type": "markdown",
   "id": "962ef4b5",
   "metadata": {},
   "source": [
    "`spark_matcher` is shipped with a utility function to get the most frequenty occurring words in a Spark dataframe column. We apply this to the `venue` column:"
   ]
  },
  {
   "cell_type": "code",
   "execution_count": null,
   "id": "0bdd312e",
   "metadata": {
    "tags": [
     "keep_output"
    ]
   },
   "outputs": [],
   "source": [
    "from spark_matcher.utils import get_most_frequent_words"
   ]
  },
  {
   "cell_type": "code",
   "execution_count": null,
   "id": "81bc2861",
   "metadata": {
    "tags": [
     "keep_output"
    ]
   },
   "outputs": [
    {
     "data": {
      "text/html": [
       "<div>\n",
       "<style scoped>\n",
       "    .dataframe tbody tr th:only-of-type {\n",
       "        vertical-align: middle;\n",
       "    }\n",
       "\n",
       "    .dataframe tbody tr th {\n",
       "        vertical-align: top;\n",
       "    }\n",
       "\n",
       "    .dataframe thead th {\n",
       "        text-align: right;\n",
       "    }\n",
       "</style>\n",
       "<table border=\"1\" class=\"dataframe\">\n",
       "  <thead>\n",
       "    <tr style=\"text-align: right;\">\n",
       "      <th></th>\n",
       "      <th>words</th>\n",
       "      <th>count</th>\n",
       "      <th>df</th>\n",
       "    </tr>\n",
       "  </thead>\n",
       "  <tbody>\n",
       "    <tr>\n",
       "      <th>0</th>\n",
       "      <td>SIGMOD</td>\n",
       "      <td>1917</td>\n",
       "      <td>0.390428</td>\n",
       "    </tr>\n",
       "    <tr>\n",
       "      <th>1</th>\n",
       "      <td>Data</td>\n",
       "      <td>1640</td>\n",
       "      <td>0.334012</td>\n",
       "    </tr>\n",
       "    <tr>\n",
       "      <th>2</th>\n",
       "      <td>Conference</td>\n",
       "      <td>1603</td>\n",
       "      <td>0.326477</td>\n",
       "    </tr>\n",
       "    <tr>\n",
       "      <th>3</th>\n",
       "      <td>VLDB</td>\n",
       "      <td>1289</td>\n",
       "      <td>0.262525</td>\n",
       "    </tr>\n",
       "    <tr>\n",
       "      <th>4</th>\n",
       "      <td>on</td>\n",
       "      <td>1135</td>\n",
       "      <td>0.231161</td>\n",
       "    </tr>\n",
       "    <tr>\n",
       "      <th>5</th>\n",
       "      <td>Record</td>\n",
       "      <td>1111</td>\n",
       "      <td>0.226273</td>\n",
       "    </tr>\n",
       "    <tr>\n",
       "      <th>6</th>\n",
       "      <td>International</td>\n",
       "      <td>1001</td>\n",
       "      <td>0.203870</td>\n",
       "    </tr>\n",
       "    <tr>\n",
       "      <th>7</th>\n",
       "      <td></td>\n",
       "      <td>858</td>\n",
       "      <td>0.174745</td>\n",
       "    </tr>\n",
       "    <tr>\n",
       "      <th>8</th>\n",
       "      <td>Large</td>\n",
       "      <td>843</td>\n",
       "      <td>0.171690</td>\n",
       "    </tr>\n",
       "    <tr>\n",
       "      <th>9</th>\n",
       "      <td>Very</td>\n",
       "      <td>843</td>\n",
       "      <td>0.171690</td>\n",
       "    </tr>\n",
       "  </tbody>\n",
       "</table>\n",
       "</div>"
      ],
      "text/plain": [
       "           words  count        df\n",
       "0         SIGMOD   1917  0.390428\n",
       "1           Data   1640  0.334012\n",
       "2     Conference   1603  0.326477\n",
       "3           VLDB   1289  0.262525\n",
       "4             on   1135  0.231161\n",
       "5         Record   1111  0.226273\n",
       "6  International   1001  0.203870\n",
       "7                   858  0.174745\n",
       "8          Large    843  0.171690\n",
       "9           Very    843  0.171690"
      ]
     },
     "execution_count": null,
     "metadata": {},
     "output_type": "execute_result"
    }
   ],
   "source": [
    "frequent_words = get_most_frequent_words(a.unionByName(b), col_name='venue')\n",
    "frequent_words.head(10)"
   ]
  },
  {
   "cell_type": "markdown",
   "id": "7e0a1379",
   "metadata": {},
   "source": [
    "Based on this list, we decide that we want to consider the words 'conference' and 'international' as stopwords. The utility function `remove_stopwords` does this job:"
   ]
  },
  {
   "cell_type": "code",
   "execution_count": null,
   "id": "00cb0b30",
   "metadata": {
    "tags": [
     "keep_output"
    ]
   },
   "outputs": [],
   "source": [
    "from spark_matcher.utils import remove_stopwords"
   ]
  },
  {
   "cell_type": "code",
   "execution_count": null,
   "id": "a386ead6",
   "metadata": {
    "tags": [
     "keep_output"
    ]
   },
   "outputs": [],
   "source": [
    "stopwords = ['conference', 'international']"
   ]
  },
  {
   "cell_type": "code",
   "execution_count": null,
   "id": "18f3322e",
   "metadata": {
    "tags": [
     "keep_output"
    ]
   },
   "outputs": [],
   "source": [
    "a = remove_stopwords(a, col_name='venue', stopwords=stopwords).drop('venue')\n",
    "b = remove_stopwords(b, col_name='venue', stopwords=stopwords).drop('venue')"
   ]
  },
  {
   "cell_type": "markdown",
   "id": "816e6201",
   "metadata": {},
   "source": [
    "A new column `venue_wo_stopwords` is created in which the stopwords are removed:"
   ]
  },
  {
   "cell_type": "code",
   "execution_count": null,
   "id": "d2c8d0c9",
   "metadata": {
    "tags": [
     "keep_output"
    ]
   },
   "outputs": [
    {
     "data": {
      "text/html": [
       "<div>\n",
       "<style scoped>\n",
       "    .dataframe tbody tr th:only-of-type {\n",
       "        vertical-align: middle;\n",
       "    }\n",
       "\n",
       "    .dataframe tbody tr th {\n",
       "        vertical-align: top;\n",
       "    }\n",
       "\n",
       "    .dataframe thead th {\n",
       "        text-align: right;\n",
       "    }\n",
       "</style>\n",
       "<table border=\"1\" class=\"dataframe\">\n",
       "  <thead>\n",
       "    <tr style=\"text-align: right;\">\n",
       "      <th></th>\n",
       "      <th>title</th>\n",
       "      <th>authors</th>\n",
       "      <th>venue_wo_stopwords</th>\n",
       "    </tr>\n",
       "  </thead>\n",
       "  <tbody>\n",
       "    <tr>\n",
       "      <th>0</th>\n",
       "      <td>The WASA2 object-oriented workflow management ...</td>\n",
       "      <td>Gottfried Vossen, Mathias Weske</td>\n",
       "      <td>on Management of Data</td>\n",
       "    </tr>\n",
       "    <tr>\n",
       "      <th>1</th>\n",
       "      <td>A user-centered interface for querying distrib...</td>\n",
       "      <td>Isabel F. Cruz, Kimberly M. James</td>\n",
       "      <td>on Management of Data</td>\n",
       "    </tr>\n",
       "    <tr>\n",
       "      <th>2</th>\n",
       "      <td>World Wide Database-integrating the Web, CORBA...</td>\n",
       "      <td>Athman Bouguettaya, Boualem Benatallah, Lily H...</td>\n",
       "      <td>on Management of Data</td>\n",
       "    </tr>\n",
       "  </tbody>\n",
       "</table>\n",
       "</div>"
      ],
      "text/plain": [
       "                                               title  \\\n",
       "0  The WASA2 object-oriented workflow management ...   \n",
       "1  A user-centered interface for querying distrib...   \n",
       "2  World Wide Database-integrating the Web, CORBA...   \n",
       "\n",
       "                                             authors     venue_wo_stopwords  \n",
       "0                    Gottfried Vossen, Mathias Weske  on Management of Data  \n",
       "1                  Isabel F. Cruz, Kimberly M. James  on Management of Data  \n",
       "2  Athman Bouguettaya, Boualem Benatallah, Lily H...  on Management of Data  "
      ]
     },
     "execution_count": null,
     "metadata": {},
     "output_type": "execute_result"
    }
   ],
   "source": [
    "a.limit(3).toPandas()"
   ]
  },
  {
   "cell_type": "markdown",
   "id": "f1c71962",
   "metadata": {},
   "source": [
    "We use the `spark_matcher` to link the records in dataframe `a` with the records in dataframe `b`. Instead of the `venue` column, we now use the newly created `venue_wo_stopwords` column."
   ]
  },
  {
   "cell_type": "code",
   "execution_count": null,
   "id": "34d71374",
   "metadata": {
    "tags": [
     "keep_output"
    ]
   },
   "outputs": [],
   "source": [
    "from spark_matcher.matcher import Matcher"
   ]
  },
  {
   "cell_type": "code",
   "execution_count": null,
   "id": "833caee8",
   "metadata": {
    "tags": [
     "keep_output"
    ]
   },
   "outputs": [],
   "source": [
    "myMatcher = Matcher(spark, col_names=['title', 'authors', 'venue_wo_stopwords'], checkpoint_dir='path_to_checkpoints')"
   ]
  },
  {
   "cell_type": "markdown",
   "id": "4cf920a9",
   "metadata": {
    "tags": [
     "keep_output"
    ]
   },
   "source": [
    "Now we are ready for fitting the `Matcher` object."
   ]
  },
  {
   "cell_type": "code",
   "execution_count": null,
   "id": "ef8e304a",
   "metadata": {
    "tags": [
     "keep_output"
    ]
   },
   "outputs": [],
   "source": [
    "myMatcher.fit(a, b)"
   ]
  },
  {
   "cell_type": "markdown",
   "id": "5b0e4425",
   "metadata": {},
   "source": [
    "The `Matcher` is now trained and can be used to predict on all data as usual:"
   ]
  },
  {
   "cell_type": "code",
   "execution_count": null,
   "id": "f342c880",
   "metadata": {
    "tags": [
     "keep_output"
    ]
   },
   "outputs": [],
   "source": [
    "result = myMatcher.predict(a, b, threshold=0.5, top_n=3)"
   ]
  },
  {
   "cell_type": "markdown",
   "id": "2a68b63e",
   "metadata": {},
   "source": [
    "Now let's have a look at the results:"
   ]
  },
  {
   "cell_type": "code",
   "execution_count": null,
   "id": "b3057fd0",
   "metadata": {
    "tags": [
     "keep_output"
    ]
   },
   "outputs": [],
   "source": [
    "result_pdf = result.toPandas()"
   ]
  },
  {
   "cell_type": "code",
   "execution_count": null,
   "id": "2aae3ea3",
   "metadata": {
    "tags": [
     "keep_output"
    ]
   },
   "outputs": [],
   "source": [
    "result_pdf.sort_values('score')"
   ]
  }
 ],
 "metadata": {
  "kernelspec": {
   "display_name": "Python 3 (ipykernel)",
   "language": "python",
   "name": "python3"
  },
  "language_info": {
   "codemirror_mode": {
    "name": "ipython",
    "version": 3
   },
   "file_extension": ".py",
   "mimetype": "text/x-python",
   "name": "python",
   "nbconvert_exporter": "python",
   "pygments_lexer": "ipython3",
   "version": "3.8.13"
  }
 },
 "nbformat": 4,
 "nbformat_minor": 5
}
