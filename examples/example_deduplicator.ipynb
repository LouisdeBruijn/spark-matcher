{
 "cells": [
  {
   "cell_type": "markdown",
   "id": "2dbac5c1",
   "metadata": {},
   "source": [
    "# Spark-Matcher Deduplicator example "
   ]
  },
  {
   "cell_type": "markdown",
   "id": "bf30a2e7",
   "metadata": {},
   "source": [
    "This notebook shows how to use the `spark_matcher` for deduplication. First we create a Spark session:"
   ]
  },
  {
   "cell_type": "code",
   "execution_count": null,
   "id": "86e6117a",
   "metadata": {},
   "outputs": [],
   "source": [
    "%config Completer.use_jedi = False  # for proper autocompletion\n",
    "import os\n",
    "from pyspark.sql import SparkSession\n",
    "import pandas as pd\n",
    "pd.set_option('max_colwidth', None)"
   ]
  },
  {
   "cell_type": "markdown",
   "id": "feef4c5c",
   "metadata": {},
   "source": [
    "When creating a Spark session, make sure you point to the right location of the GraphFrames jar-file"
   ]
  },
  {
   "cell_type": "code",
   "execution_count": null,
   "id": "69082410",
   "metadata": {},
   "outputs": [],
   "source": [
    "spark = (SparkSession\n",
    "             .builder\n",
    "             .master(\"local\")\n",
    "             .enableHiveSupport()\n",
    "             .config('spark.jars', os.path.join('..', 'external_dependencies', 'graphframes-0.8.1-spark3.0-s_2.12.jar'))\n",
    "             .getOrCreate())"
   ]
  },
  {
   "cell_type": "markdown",
   "id": "d76bb8b2",
   "metadata": {},
   "source": [
    "In this notebook we use some example data that comes with `spark_matcher`"
   ]
  },
  {
   "cell_type": "code",
   "execution_count": null,
   "id": "3880d168",
   "metadata": {},
   "outputs": [],
   "source": [
    "from spark_matcher.data import load_data"
   ]
  },
  {
   "cell_type": "code",
   "execution_count": null,
   "id": "06e70e98",
   "metadata": {},
   "outputs": [],
   "source": [
    "sdf = load_data(spark, kind='stoxx50')"
   ]
  },
  {
   "cell_type": "markdown",
   "id": "7ecd916e",
   "metadata": {},
   "source": [
    "This dataset contains a single column containing the concatenation of Eurostoxx 50 company names and addresses."
   ]
  },
  {
   "cell_type": "code",
   "execution_count": null,
   "id": "5a85fad5",
   "metadata": {
    "tags": [
     "keep_output"
    ]
   },
   "outputs": [
    {
     "name": "stderr",
     "output_type": "stream",
     "text": [
      "                                                                                \r"
     ]
    },
    {
     "data": {
      "text/html": [
       "<div>\n",
       "<style scoped>\n",
       "    .dataframe tbody tr th:only-of-type {\n",
       "        vertical-align: middle;\n",
       "    }\n",
       "\n",
       "    .dataframe tbody tr th {\n",
       "        vertical-align: top;\n",
       "    }\n",
       "\n",
       "    .dataframe thead th {\n",
       "        text-align: right;\n",
       "    }\n",
       "</style>\n",
       "<table border=\"1\" class=\"dataframe\">\n",
       "  <thead>\n",
       "    <tr style=\"text-align: right;\">\n",
       "      <th></th>\n",
       "      <th>name</th>\n",
       "    </tr>\n",
       "  </thead>\n",
       "  <tbody>\n",
       "    <tr>\n",
       "      <th>0</th>\n",
       "      <td>adidas ag adi dassler strasse 1 91074 germany</td>\n",
       "    </tr>\n",
       "    <tr>\n",
       "      <th>1</th>\n",
       "      <td>adidas ag adi dassler strasse 1 91074 herzogenaurach</td>\n",
       "    </tr>\n",
       "    <tr>\n",
       "      <th>2</th>\n",
       "      <td>adidas ag adi dassler strasse 1 91074 herzogenaurach germany</td>\n",
       "    </tr>\n",
       "    <tr>\n",
       "      <th>3</th>\n",
       "      <td>airbus se 2333 cs leiden netherlands</td>\n",
       "    </tr>\n",
       "    <tr>\n",
       "      <th>4</th>\n",
       "      <td>airbus se 2333 cs netherlands</td>\n",
       "    </tr>\n",
       "  </tbody>\n",
       "</table>\n",
       "</div>"
      ],
      "text/plain": [
       "                                                           name\n",
       "0                 adidas ag adi dassler strasse 1 91074 germany\n",
       "1          adidas ag adi dassler strasse 1 91074 herzogenaurach\n",
       "2  adidas ag adi dassler strasse 1 91074 herzogenaurach germany\n",
       "3                          airbus se 2333 cs leiden netherlands\n",
       "4                                 airbus se 2333 cs netherlands"
      ]
     },
     "execution_count": null,
     "metadata": {},
     "output_type": "execute_result"
    }
   ],
   "source": [
    "sdf.limit(5).toPandas()"
   ]
  },
  {
   "cell_type": "markdown",
   "id": "18e216c2",
   "metadata": {},
   "source": [
    "We use the `spark_matcher`'s `Deduplicator` to combine different representations of an entity under the same entity identifier. In the example above, there are 3 records for the 'adidas ag' entity with small differences. What we want to achieve is to have the same identifier for these three records, so that we could understand that these different representations belong to same entity. <br>\n",
    "\n",
    "Let's first import the `Deduplicator` and create an instance."
   ]
  },
  {
   "cell_type": "code",
   "execution_count": null,
   "id": "8c92dec4",
   "metadata": {},
   "outputs": [],
   "source": [
    "from spark_matcher.deduplicator.deduplicator import Deduplicator"
   ]
  },
  {
   "cell_type": "code",
   "execution_count": null,
   "id": "78776c8a",
   "metadata": {},
   "outputs": [],
   "source": [
    "myDeduplicator = Deduplicator(spark, col_names=['name'], checkpoint_dir='path_to_checkpoints')"
   ]
  },
  {
   "cell_type": "markdown",
   "id": "1189f655",
   "metadata": {},
   "source": [
    "Now we are ready for fitting the `Deduplicator` object using 'active learning'; this means that the user has to enter whether a pair is a match or not. \n",
    "You enter 'y' if a pair is a match or 'n' when a pair is not a match. You will be notified when the model has converged and you can stop training by pressing 'f'."
   ]
  },
  {
   "cell_type": "code",
   "execution_count": null,
   "id": "54b6b586",
   "metadata": {
    "tags": [
     "keep_output"
    ]
   },
   "outputs": [
    {
     "name": "stderr",
     "output_type": "stream",
     "text": [
      "                                                                                \r"
     ]
    },
    {
     "name": "stdout",
     "output_type": "stream",
     "text": [
      "\n",
      "Nr. 1 (0+/0-)\n",
      "Is this a match? (y)es, (n)o, (p)revious, (s)kip, (f)inish\n",
      "\n",
      "name_1: fresenius se   co  kgaa else kroner strasse 1 61352 bad homburg vor der hohe germany\n",
      "\n",
      "name_2: fresenius se   co  kgaa else kroner strasse 1 61352 bad homburg vor der hohe germany\n",
      "\n"
     ]
    },
    {
     "name": "stdin",
     "output_type": "stream",
     "text": [
      " y\n"
     ]
    },
    {
     "name": "stdout",
     "output_type": "stream",
     "text": [
      "\n",
      "Nr. 2 (1+/0-)\n",
      "Is this a match? (y)es, (n)o, (p)revious, (s)kip, (f)inish\n",
      "\n",
      "name_1: deutsche boerse frankfurt\n",
      "\n",
      "name_2: adidas ag adi dassler strasse 1 91074 herzogenaurach germany\n",
      "\n"
     ]
    },
    {
     "name": "stdin",
     "output_type": "stream",
     "text": [
      " n\n"
     ]
    },
    {
     "name": "stdout",
     "output_type": "stream",
     "text": [
      "\n",
      "Nr. 3 (1+/1-)\n",
      "Is this a match? (y)es, (n)o, (p)revious, (s)kip, (f)inish\n",
      "\n",
      "name_1: deutsche post ag platz der deutschen post 53113 germany\n",
      "\n",
      "name_2: deutsche boerse\n",
      "\n"
     ]
    },
    {
     "name": "stdin",
     "output_type": "stream",
     "text": [
      " n\n"
     ]
    },
    {
     "name": "stdout",
     "output_type": "stream",
     "text": [
      "\n",
      "Nr. 4 (1+/2-)\n",
      "Is this a match? (y)es, (n)o, (p)revious, (s)kip, (f)inish\n",
      "\n",
      "name_1: telefonica  s a  ronda de la comunicacion\n",
      "\n",
      "name_2: telefonica  s a  28050 madrid\n",
      "\n"
     ]
    },
    {
     "name": "stdin",
     "output_type": "stream",
     "text": [
      " y\n"
     ]
    },
    {
     "name": "stdout",
     "output_type": "stream",
     "text": [
      "\n",
      "Nr. 5 (2+/2-)\n",
      "Is this a match? (y)es, (n)o, (p)revious, (s)kip, (f)inish\n",
      "\n",
      "name_1: deutsche boerse 60485 frankfurt\n",
      "\n",
      "name_2: deutsche post ag platz der deutschen post bonn germany\n",
      "\n"
     ]
    },
    {
     "name": "stdin",
     "output_type": "stream",
     "text": [
      " n\n"
     ]
    },
    {
     "name": "stdout",
     "output_type": "stream",
     "text": [
      "\n",
      "Nr. 6 (2+/3-)\n",
      "Is this a match? (y)es, (n)o, (p)revious, (s)kip, (f)inish\n",
      "\n",
      "name_1: koninklijke ahold delhaize n v   provincialeweg 11\n",
      "\n",
      "name_2: koninklijke philips n v  amstelplein 2 1096 bc\n",
      "\n"
     ]
    },
    {
     "name": "stdin",
     "output_type": "stream",
     "text": [
      " y\n"
     ]
    },
    {
     "name": "stdout",
     "output_type": "stream",
     "text": [
      "\n",
      "Nr. 7 (3+/3-)\n",
      "Is this a match? (y)es, (n)o, (p)revious, (s)kip, (f)inish\n",
      "\n",
      "name_1: deutsche telekom ag 53113 germany\n",
      "\n",
      "name_2: deutsche post ag platz der deutschen post bonn germany\n",
      "\n"
     ]
    },
    {
     "name": "stdin",
     "output_type": "stream",
     "text": [
      " p\n"
     ]
    },
    {
     "name": "stdout",
     "output_type": "stream",
     "text": [
      "\n",
      "Nr. 7 (3+/3-)\n",
      "Is this a match? (y)es, (n)o, (p)revious, (s)kip, (f)inish\n",
      "\n",
      "name_1: koninklijke ahold delhaize n v   provincialeweg 11\n",
      "\n",
      "name_2: koninklijke philips n v  amstelplein 2 1096 bc\n",
      "\n"
     ]
    },
    {
     "name": "stdin",
     "output_type": "stream",
     "text": [
      " n\n"
     ]
    },
    {
     "name": "stdout",
     "output_type": "stream",
     "text": [
      "\n",
      "Nr. 8 (3+/4-)\n",
      "Is this a match? (y)es, (n)o, (p)revious, (s)kip, (f)inish\n",
      "\n",
      "name_1: safran sa paris france\n",
      "\n",
      "name_2: safran sa 2  boulevard du general martial valin paris france\n",
      "\n"
     ]
    },
    {
     "name": "stdin",
     "output_type": "stream",
     "text": [
      " y\n"
     ]
    },
    {
     "name": "stdout",
     "output_type": "stream",
     "text": [
      "\n",
      "Nr. 9 (4+/4-)\n",
      "Is this a match? (y)es, (n)o, (p)revious, (s)kip, (f)inish\n",
      "\n",
      "name_1: bayer aktiengesellschaft 51368 leverkusen germany\n",
      "\n",
      "name_2: bayerische motoren werke aktiengesellschaft munich germany\n",
      "\n"
     ]
    },
    {
     "name": "stdin",
     "output_type": "stream",
     "text": [
      " n\n"
     ]
    },
    {
     "name": "stdout",
     "output_type": "stream",
     "text": [
      "\n",
      "Nr. 10 (4+/5-)\n",
      "Is this a match? (y)es, (n)o, (p)revious, (s)kip, (f)inish\n",
      "\n",
      "name_1: koninklijke philips n v  amstelplein 2 1096 bc\n",
      "\n",
      "name_2: koninklijke ahold delhaize n v   provincialeweg 11 netherlands\n",
      "\n"
     ]
    },
    {
     "name": "stdin",
     "output_type": "stream",
     "text": [
      " n\n"
     ]
    },
    {
     "name": "stdout",
     "output_type": "stream",
     "text": [
      "\n",
      "Nr. 11 (4+/6-)\n",
      "Is this a match? (y)es, (n)o, (p)revious, (s)kip, (f)inish\n",
      "\n",
      "name_1: deutsche boerse 60485 frankfurt\n",
      "\n",
      "name_2: deutsche telekom ag 53113 bonn germany\n",
      "\n"
     ]
    },
    {
     "name": "stdin",
     "output_type": "stream",
     "text": [
      " n\n"
     ]
    },
    {
     "name": "stdout",
     "output_type": "stream",
     "text": [
      "Classifier converged, enter 'f' to stop training\n",
      "\n",
      "Nr. 12 (4+/7-)\n",
      "Is this a match? (y)es, (n)o, (p)revious, (s)kip, (f)inish\n",
      "\n",
      "name_1: koninklijke ahold delhaize n v   1506 ma zaandam netherlands\n",
      "\n",
      "name_2: koninklijke philips n v  amstelplein 2 1096 bc\n",
      "\n"
     ]
    },
    {
     "name": "stdin",
     "output_type": "stream",
     "text": [
      " f\n"
     ]
    },
    {
     "name": "stderr",
     "output_type": "stream",
     "text": [
      "                                                                                \r"
     ]
    },
    {
     "data": {
      "text/plain": [
       "<spark_matcher.deduplicator.deduplicator.Deduplicator at 0x7f854157e790>"
      ]
     },
     "execution_count": null,
     "metadata": {},
     "output_type": "execute_result"
    }
   ],
   "source": [
    "myDeduplicator.fit(sdf)"
   ]
  },
  {
   "cell_type": "markdown",
   "id": "22e4e98e",
   "metadata": {},
   "source": [
    "The `Deduplicator` is now trained and can be used to predict on all data. This can be the data used for training or new data that was not seen by the model yet.\n",
    "By default the `threshold` is 0.5. A lower threshold results in more matches but also in more incorrect matches."
   ]
  },
  {
   "cell_type": "code",
   "execution_count": null,
   "id": "0e5fb021",
   "metadata": {},
   "outputs": [],
   "source": [
    "result = myDeduplicator.predict(sdf)"
   ]
  },
  {
   "cell_type": "markdown",
   "id": "8af07b01",
   "metadata": {},
   "source": [
    "Now let's have a look at the results:"
   ]
  },
  {
   "cell_type": "code",
   "execution_count": null,
   "id": "c159116b",
   "metadata": {
    "tags": [
     "keep_output"
    ]
   },
   "outputs": [
    {
     "data": {
      "text/html": [
       "<div>\n",
       "<style scoped>\n",
       "    .dataframe tbody tr th:only-of-type {\n",
       "        vertical-align: middle;\n",
       "    }\n",
       "\n",
       "    .dataframe tbody tr th {\n",
       "        vertical-align: top;\n",
       "    }\n",
       "\n",
       "    .dataframe thead th {\n",
       "        text-align: right;\n",
       "    }\n",
       "</style>\n",
       "<table border=\"1\" class=\"dataframe\">\n",
       "  <thead>\n",
       "    <tr style=\"text-align: right;\">\n",
       "      <th></th>\n",
       "      <th>name</th>\n",
       "      <th>entity_identifier</th>\n",
       "    </tr>\n",
       "  </thead>\n",
       "  <tbody>\n",
       "    <tr>\n",
       "      <th>79</th>\n",
       "      <td>adidas ag adi dassler strasse 1 91074 germany</td>\n",
       "      <td>137438953472</td>\n",
       "    </tr>\n",
       "    <tr>\n",
       "      <th>10</th>\n",
       "      <td>adidas ag adi dassler strasse 1 91074 herzogenaurach</td>\n",
       "      <td>137438953472</td>\n",
       "    </tr>\n",
       "    <tr>\n",
       "      <th>53</th>\n",
       "      <td>adidas ag adi dassler strasse 1 91074 herzogenaurach germany</td>\n",
       "      <td>137438953472</td>\n",
       "    </tr>\n",
       "    <tr>\n",
       "      <th>89</th>\n",
       "      <td>airbus se 2333 cs leiden netherlands</td>\n",
       "      <td>34359738368</td>\n",
       "    </tr>\n",
       "    <tr>\n",
       "      <th>44</th>\n",
       "      <td>airbus se 2333 cs netherlands</td>\n",
       "      <td>34359738368</td>\n",
       "    </tr>\n",
       "  </tbody>\n",
       "</table>\n",
       "</div>"
      ],
      "text/plain": [
       "                                                            name  \\\n",
       "79                 adidas ag adi dassler strasse 1 91074 germany   \n",
       "10          adidas ag adi dassler strasse 1 91074 herzogenaurach   \n",
       "53  adidas ag adi dassler strasse 1 91074 herzogenaurach germany   \n",
       "89                          airbus se 2333 cs leiden netherlands   \n",
       "44                                 airbus se 2333 cs netherlands   \n",
       "\n",
       "    entity_identifier  \n",
       "79       137438953472  \n",
       "10       137438953472  \n",
       "53       137438953472  \n",
       "89        34359738368  \n",
       "44        34359738368  "
      ]
     },
     "execution_count": null,
     "metadata": {},
     "output_type": "execute_result"
    }
   ],
   "source": [
    "df_result = result.toPandas()\n",
    "df_result.sort_values('name').head()"
   ]
  },
  {
   "cell_type": "markdown",
   "id": "c594b9e5",
   "metadata": {},
   "source": [
    "As can be seen above, all records belonging to 'Adidas AG' are combined under one entity_identifier. Same applies for 'Airbus SE' as well."
   ]
  },
  {
   "cell_type": "markdown",
   "id": "011abe91",
   "metadata": {},
   "source": [
    "If you want to use the `Deduplicator` later without having to retrain, you can save the `Deduplicator` and load it later:"
   ]
  },
  {
   "cell_type": "code",
   "execution_count": null,
   "id": "e9d64a5c",
   "metadata": {},
   "outputs": [],
   "source": [
    "myDeduplicator.save('myDeduplicator.pkl')"
   ]
  },
  {
   "cell_type": "code",
   "execution_count": null,
   "id": "1006821b",
   "metadata": {},
   "outputs": [],
   "source": [
    "myRestoredDeduplicator = Deduplicator(spark)"
   ]
  },
  {
   "cell_type": "code",
   "execution_count": null,
   "id": "678fcd50",
   "metadata": {},
   "outputs": [],
   "source": [
    "myRestoredDeduplicator.load('myDeduplicator.pkl')"
   ]
  },
  {
   "cell_type": "markdown",
   "id": "2ecba1b3",
   "metadata": {},
   "source": [
    "This `Deduplicator` object can be used to predict on new data."
   ]
  }
 ],
 "metadata": {
  "kernelspec": {
   "display_name": "Python 3 (ipykernel)",
   "language": "python",
   "name": "python3"
  },
  "language_info": {
   "codemirror_mode": {
    "name": "ipython",
    "version": 3
   },
   "file_extension": ".py",
   "mimetype": "text/x-python",
   "name": "python",
   "nbconvert_exporter": "python",
   "pygments_lexer": "ipython3",
   "version": "3.8.11"
  }
 },
 "nbformat": 4,
 "nbformat_minor": 5
}
